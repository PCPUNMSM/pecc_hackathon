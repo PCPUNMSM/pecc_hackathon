{
 "cells": [
  {
   "cell_type": "markdown",
   "metadata": {},
   "source": [
    "# Problem: Reflection unitaries"
   ]
  },
  {
   "cell_type": "markdown",
   "metadata": {},
   "source": [
    "In the previous two problems, the output of a classical Boolean function is computed into an additional qubit. However, quantum computers can also compute Boolean functions into the phase of a quantum state, which we explore in this problem.\n",
    "\n",
    "Suppose $f:\\{0,1\\}^n\\rightarrow\\{0,1\\}$ is a Boolean function. For $\\beta \\in R$, define an $\\textit{n}$-qubit unitary\n",
    "\n",
    "$$\n",
    "\\large\n",
    "\\begin{equation*}\n",
    "    U_f(\\beta) = \\sum_{x\\in\\{0,1\\}^n} e^{i\\beta f(x)}|x\\rangle \\langle x|\n",
    "\\tag{1}\n",
    "\\end{equation*}\n",
    "$$\n",
    "When $U_f$ is applied to computational basis state $|x\\rangle$ it adds a phase $e^{i\\beta}$ if $f(x) = 1$ and does  nothing otherwise.<br>\n",
    "Your goal in this problem is to implement $U_f$ for a variety of functions with $\\textit{n}$= 3\n",
    "<h3>\n",
    "\\begin{align}\n",
    "f_0(x_1x_2x_3)&=0,\\quad f_1(x_1x_2x_3)=x_1x_2x_3,\\quad f_2(x_1x_2x_3)=x_1x_2x_3+(1-x_1)(1-x_2)(1-x_3),\\\\\\nonumber\n",
    "f_3(x_1x_2x_3)&=x_1+x_2+x_3+x_1x_2x_3,\\quad f_4(x_1x_2x_3)=x_1+x_2+x_3.\n",
    "\\tag{2}\n",
    "\\end{align}\n",
    "</h3>\n",
    "Here, $f_m$ has m solutions to f(x) = 1. For instance,$f_2$ evaluates to 1 on the inputs x = 000 and x = 111.You may use $A \\geq 0$ ancilla qubits in your implementation initialized in $∣0^A\\rangle$ as long as they are returned to $∣0^A\\rangle$ by the end of the computation. Two examples are shown in Fig.2 for n= 2 functions.\n",
    "\n",
    "![icpc_reflections.png](icpc_reflections.png \"ShowMyImage\")\n",
    "\n",
    "The \"reflection unitaries\" $U_f(\\beta)$ are useful in some quantum algorithms. In particular, the famous Grover search algorithm uses these reflections to outperform classical search algorithms for unstructured lists."
   ]
  },
  {
   "cell_type": "markdown",
   "metadata": {},
   "source": [
    "<h1>\n",
    "    $f_m$ for m = 0"
   ]
  },
  {
   "cell_type": "code",
   "execution_count": null,
   "metadata": {},
   "outputs": [],
   "source": [
    "# Importing the qiskit module\n",
    "from qiskit import *\n",
    "\n",
    "q0 =    # number of required qubits\n",
    "a0 =    # number of ancilla qubit\n",
    "beta = circuit.Parameter('beta') #Parameter for reflection \n",
    "\n",
    "# Defining Quantum Circuit with the given circuits\n",
    "def Circuit_0(q,a,beta):\n",
    "    if a != 0:\n",
    "        # initiating required and ancilla qubits\n",
    "        Q = QuantumRegister(q, 'input') \n",
    "        A = QuantumRegister(a, 'ancilla')  \n",
    "        \n",
    "        # creating circuit with above qubits\n",
    "        Circ = QuantumCircuit(Q,A)\n",
    "    else:\n",
    "        # initiating required qubits\n",
    "        Q = QuantumRegister(q, 'input') \n",
    "        \n",
    "        # creating circuit with above qubits\n",
    "        Circ = QuantumCircuit(Q)\n",
    "    \n",
    "    ##### Create you circuit below ######### \n",
    "    \n",
    "    \n",
    "    \n",
    "    ########################################\n",
    "    \n",
    "    # Uncomment to draw quantum circuit\n",
    "#     display(Circ.draw('mpl'))\n",
    "    \n",
    "    # Transpiling the circuit into u, cnot\n",
    "    Circ = transpile(Circ, basis_gates=['u3','cx'])\n",
    "    \n",
    "    # Uncomment to draw transpiled circuit\n",
    "#     display(Circ.draw('mpl'))\n",
    "    \n",
    "    return Circ\n",
    "\n",
    "qc_3a = Circuit_0(q0,a0,beta)"
   ]
  },
  {
   "cell_type": "markdown",
   "metadata": {},
   "source": [
    "<h1>\n",
    "    $f_m$ for m = 1"
   ]
  },
  {
   "cell_type": "code",
   "execution_count": null,
   "metadata": {},
   "outputs": [],
   "source": [
    "# Importing the qiskit module\n",
    "from qiskit import *\n",
    "\n",
    "q1 =   # number of required qubits\n",
    "a1 =   # number of ancilla qubit\n",
    "beta = circuit.Parameter('beta') #Parameter for reflection \n",
    "\n",
    "# Defining Quantum Circuit with the given circuits\n",
    "def Circuit_1(q,a,beta):\n",
    "    if a != 0:\n",
    "        # initiating required and ancilla qubits\n",
    "        Q = QuantumRegister(q, 'input') \n",
    "        A = QuantumRegister(a, 'ancilla')  \n",
    "        \n",
    "        # creating circuit with above qubits\n",
    "        Circ = QuantumCircuit(Q,A)\n",
    "    else:\n",
    "        # initiating required qubits\n",
    "        Q = QuantumRegister(q, 'input') \n",
    "        \n",
    "        # creating circuit with above qubits\n",
    "        Circ = QuantumCircuit(Q)\n",
    "    \n",
    "    ##### Create you circuit below #########\n",
    "    \n",
    "    \n",
    "    \n",
    "    ########################################\n",
    "    \n",
    "    # Uncomment to draw quantum circuit\n",
    "#     display(Circ.draw('mpl'))\n",
    "    \n",
    "    # Transpiling the circuit into u, cnot\n",
    "    Circ = transpile(Circ, basis_gates=['u3','cx'])\n",
    "    \n",
    "    # Uncomment to draw transpiled circuit\n",
    "#     display(Circ.draw('mpl'))\n",
    "    \n",
    "    return Circ\n",
    "\n",
    "qc_3b = Circuit_1(q1,a1,beta)"
   ]
  },
  {
   "cell_type": "markdown",
   "metadata": {},
   "source": [
    "<h1>\n",
    "    $f_m$ for m = 2"
   ]
  },
  {
   "cell_type": "code",
   "execution_count": null,
   "metadata": {},
   "outputs": [],
   "source": [
    "# Importing the qiskit module\n",
    "from qiskit import *\n",
    "\n",
    "q2 =   # number of required qubits\n",
    "a2 =   # number of ancilla qubit\n",
    "beta = circuit.Parameter('beta') #Parameter for reflection \n",
    "\n",
    "# Defining Quantum Circuit with the given circuits\n",
    "def Circuit_2(q,a,beta):\n",
    "    if a != 0:\n",
    "        # initiating required and ancilla qubits\n",
    "        Q = QuantumRegister(q, 'input') \n",
    "        A = QuantumRegister(a, 'ancilla')  \n",
    "        \n",
    "        # creating circuit with above qubits\n",
    "        Circ = QuantumCircuit(Q,A)\n",
    "    else:\n",
    "        # initiating required qubits\n",
    "        Q = QuantumRegister(q, 'input') \n",
    "        \n",
    "        # creating circuit with above qubits\n",
    "        Circ = QuantumCircuit(Q)\n",
    "    \n",
    "    ##### Create you circuit below #########\n",
    "    \n",
    "    \n",
    "    \n",
    "    ########################################\n",
    "    \n",
    "    # Uncomment to draw quantum circuit\n",
    "#     display(Circ.draw('mpl'))\n",
    "    \n",
    "    # Transpiling the circuit into u, cnot\n",
    "    Circ = transpile(Circ, basis_gates=['u3','cx'])\n",
    "    \n",
    "    # Uncomment to draw transpiled circuit\n",
    "#     display(Circ.draw('mpl'))\n",
    "    \n",
    "    return Circ\n",
    "\n",
    "qc_3c = Circuit_2(q2,a2,beta)"
   ]
  },
  {
   "cell_type": "markdown",
   "metadata": {},
   "source": [
    "<h1>\n",
    "    $f_m$ for m = 3"
   ]
  },
  {
   "cell_type": "code",
   "execution_count": null,
   "metadata": {},
   "outputs": [],
   "source": [
    "# Importing the qiskit module\n",
    "from qiskit import *\n",
    "\n",
    "q3 =   # number of required qubits\n",
    "a3 =   # number of ancilla qubit\n",
    "beta = circuit.Parameter('beta') #Parameter for reflection \n",
    "\n",
    "# Defining Quantum Circuit with the given circuits\n",
    "def Circuit_3(q,a,beta):\n",
    "    if a != 0:\n",
    "        # initiating required and ancilla qubits\n",
    "        Q = QuantumRegister(q, 'input') \n",
    "        A = QuantumRegister(a, 'ancilla')  \n",
    "        \n",
    "        # creating circuit with above qubits\n",
    "        Circ = QuantumCircuit(Q,A)\n",
    "    else:\n",
    "        # initiating required qubits\n",
    "        Q = QuantumRegister(q, 'input') \n",
    "        \n",
    "        # creating circuit with above qubits\n",
    "        Circ = QuantumCircuit(Q)\n",
    "    \n",
    "    ##### Create you circuit below #########\n",
    "    \n",
    "    \n",
    "    \n",
    "    ########################################\n",
    "    \n",
    "    # Uncomment to draw quantum circuit\n",
    "    display(Circ.draw('mpl'))\n",
    "    \n",
    "    # Transpiling the circuit into u, cnot\n",
    "    Circ = transpile(Circ, basis_gates=['u3','cx'])\n",
    "    \n",
    "    # Uncomment to draw transpiled circuit\n",
    "#     display(Circ.draw('mpl'))\n",
    "    \n",
    "    return Circ\n",
    "\n",
    "qc_3d = Circuit_3(q3,a3,beta)"
   ]
  },
  {
   "cell_type": "markdown",
   "metadata": {},
   "source": [
    "<h1>\n",
    "    $f_m$ for m = 4"
   ]
  },
  {
   "cell_type": "code",
   "execution_count": null,
   "metadata": {},
   "outputs": [],
   "source": [
    "# Importing the qiskit module\n",
    "from qiskit import *\n",
    "\n",
    "q4 =   # number of required qubits\n",
    "a4 =   # number of ancilla qubit\n",
    "beta = circuit.Parameter('beta') #Parameter for reflection \n",
    "\n",
    "# Defining Quantum Circuit with the given circuits\n",
    "def Circuit_4(q, a, beta):\n",
    "    if a != 0:\n",
    "        # initiating required and ancilla qubits\n",
    "        Q = QuantumRegister(q, 'input') \n",
    "        A = QuantumRegister(a, 'ancilla')   \n",
    "        \n",
    "        # creating circuit with above qubits\n",
    "        Circ = QuantumCircuit(Q,A)\n",
    "    else:\n",
    "        # initiating required qubits\n",
    "        Q = QuantumRegister(q, 'input') \n",
    "        \n",
    "        # creating circuit with above qubits\n",
    "        Circ = QuantumCircuit(Q)\n",
    "    \n",
    "    ##### Create you circuit below #########\n",
    "    \n",
    "    \n",
    "    \n",
    "    ########################################\n",
    "    \n",
    "    # Uncomment to draw quantum circuit\n",
    "    display(Circ.draw('mpl'))\n",
    "    \n",
    "    # Transpiling the circuit into u, cnot\n",
    "    Circ = transpile(Circ, basis_gates=['u3','cx'])\n",
    "    \n",
    "    # Uncomment to draw transpiled circuit\n",
    "#     display(Circ.draw('mpl'))\n",
    "    \n",
    "    return Circ\n",
    "\n",
    "qc_3e = Circuit_4(q4,a4,beta)"
   ]
  },
  {
   "cell_type": "markdown",
   "metadata": {},
   "source": [
    "### Grader"
   ]
  },
  {
   "cell_type": "code",
   "execution_count": null,
   "metadata": {},
   "outputs": [],
   "source": [
    "all_circuits = [qc_3a, qc_3b, qc_3c, qc_3d, qc_3e]\n",
    "from qc_grader import grade_ex3\n",
    "\n",
    "grade_ex3(all_circuits)"
   ]
  },
  {
   "cell_type": "markdown",
   "metadata": {},
   "source": [
    "# Circuit verification and Cost Metric\n",
    "\n",
    "$\\textbf{Costing metric:}$ For the $m^{th}$ circuit, let $G_m$ be the number of 2-qubit gates, $D_m$ the depth,  and $A_m$ the number of ancillas. Your solution quality will be judged on the following cost metric: \n",
    "$$\\text{Cost} = \\sum_{m=0}^4 10G_m + D_m(n+A_m)$$ .\n",
    "The reasoning behind this metric relates to the error rates in quantum circuits. Notice that $D_m(n+A_m)$ is roughly the spacetime volume of the circuit (the collective number of timesteps qubits participating in thecircuit must be kept alive). Also, two-qubit gates are roughly (optimistically) 10 times as likely to fail as idling qubits. Thus, $Cost_n$ is roughly proportional to error rate of all of your circuits combined."
   ]
  },
  {
   "cell_type": "markdown",
   "metadata": {},
   "source": [
    "### Submission for evaluation "
   ]
  },
  {
   "cell_type": "code",
   "execution_count": null,
   "metadata": {},
   "outputs": [],
   "source": [
    "## Uncomment and run the following code to submit\n",
    "# from qc_grader import submit_ex3\n",
    "\n",
    "# submit_ex3(all_circuits)"
   ]
  }
 ],
 "metadata": {
  "kernelspec": {
   "display_name": "Python 3",
   "language": "python",
   "name": "python3"
  },
  "language_info": {
   "codemirror_mode": {
    "name": "ipython",
    "version": 3
   },
   "file_extension": ".py",
   "mimetype": "text/x-python",
   "name": "python",
   "nbconvert_exporter": "python",
   "pygments_lexer": "ipython3",
   "version": "3.8.3"
  }
 },
 "nbformat": 4,
 "nbformat_minor": 4
}
