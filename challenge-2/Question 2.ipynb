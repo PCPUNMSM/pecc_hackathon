{
 "cells": [
  {
   "cell_type": "markdown",
   "metadata": {},
   "source": [
    "![Header](../resources/header.png)"
   ]
  },
  {
   "cell_type": "markdown",
   "metadata": {
    "tags": []
   },
   "source": [
    "# 2. Compute the popcount function for n(large number of inputs) qubits\n",
    "Compute the popcount function for n = 15 qubits. \n",
    "<h3>\n",
    "$$|x,0,0\\rangle \\mapsto e^{i\\theta(x)}|x,\\text{Popcount}(x),0\\rangle$$"
   ]
  },
  {
   "cell_type": "markdown",
   "metadata": {},
   "source": [
    "## a) Circuit for n = 15 Popcount function"
   ]
  },
  {
   "cell_type": "code",
   "execution_count": null,
   "metadata": {},
   "outputs": [],
   "source": [
    "# Importing the qiskit module\n",
    "from qiskit import *\n",
    "\n",
    "# Defining input, output and scratch qubits\n",
    "x15 =    # number of input qubits\n",
    "y15 =    # number of output qubit \n",
    "s15 =    # number of scratch qubit\n",
    "\n",
    "# Defining Quantum Circuit with the given circuits\n",
    "def Circuit_15(In,Ou,Sc):\n",
    "    if Sc != 0:\n",
    "        # initiating required qubits\n",
    "        X = QuantumRegister(In, 'input') \n",
    "        Y= QuantumRegister(Ou, 'output') \n",
    "        S = QuantumRegister(Sc, 'scratch')  \n",
    "        \n",
    "        # creating circuit with above qubits\n",
    "        Circ = QuantumCircuit(X,Y,S)\n",
    "    else:\n",
    "        \n",
    "        # initiating required qubits\n",
    "        X = QuantumRegister(In, 'input') \n",
    "        Y= QuantumRegister(Ou, 'output') \n",
    "        \n",
    "        # creating circuit with above qubits\n",
    "        Circ = QuantumCircuit(X,Y)\n",
    "    \n",
    "    ##### Create you circuit below #########\n",
    "    \n",
    "    \n",
    "    \n",
    "    ########################################\n",
    "    \n",
    "    # Uncomment to draw quantum circuit\n",
    "#     display(Circ.draw('mpl'))\n",
    "    \n",
    "    # Transpiling the circuit into u, cnot\n",
    "    Circ = transpile(Circ, basis_gates=['u3','cx'])\n",
    "    \n",
    "    # Uncomment to draw transpiled circuit\n",
    "#     display(Circ.draw('mpl'))\n",
    "    \n",
    "    return Circ\n",
    "\n",
    "qc_2a = Circuit_15(x15,y15,s15)"
   ]
  },
  {
   "cell_type": "markdown",
   "metadata": {},
   "source": [
    "## b) Circuit for n = 16 Popcount function"
   ]
  },
  {
   "cell_type": "code",
   "execution_count": null,
   "metadata": {},
   "outputs": [],
   "source": [
    "# Importing the qiskit module\n",
    "from qiskit import *\n",
    "\n",
    "# Defining input, output and scratch qubits\n",
    "x16 =    # number of input qubits\n",
    "y16 =    # number of output qubit \n",
    "s16 =    # number of scratch qubit\n",
    "\n",
    "# Defining Quantum Circuit with the given circuits\n",
    "def Circuit_16(In,Ou,Sc):\n",
    "    if Sc != 0:\n",
    "        # initiating required qubits\n",
    "        X = QuantumRegister(In, 'input') \n",
    "        Y= QuantumRegister(Ou, 'output') \n",
    "        S = QuantumRegister(Sc, 'scratch')  \n",
    "        \n",
    "        # creating circuit with above qubits\n",
    "        Circ = QuantumCircuit(X,Y,S)\n",
    "    else:\n",
    "        \n",
    "        # initiating required qubits\n",
    "        X = QuantumRegister(In, 'input') \n",
    "        Y= QuantumRegister(Ou, 'output') \n",
    "        \n",
    "        # creating circuit with above qubits\n",
    "        Circ = QuantumCircuit(X,Y)\n",
    "    \n",
    "    ##### Create you circuit below #########\n",
    "    \n",
    "    \n",
    "    \n",
    "    ########################################\n",
    "    \n",
    "    # Uncomment to draw quantum circuit\n",
    "#     display(Circ.draw('mpl'))\n",
    "    \n",
    "    # Transpiling the circuit into u, cnot\n",
    "    Circ = transpile(Circ, basis_gates=['u3','cx'])\n",
    "    \n",
    "    # Uncomment to draw transpiled circuit\n",
    "#     display(Circ.draw('mpl'))\n",
    "    \n",
    "    return Circ\n",
    "\n",
    "qc_2b = Circuit_16(x16,y16,s16)"
   ]
  },
  {
   "cell_type": "markdown",
   "metadata": {},
   "source": [
    "# Circuit verification and Cost Metric\n",
    "\n",
    "$\\textbf{Costing metric:}$ Circuit implementation cost is computed as follows, \n",
    "$$\\text{Cost} = G+D+\\frac{nS}{2},$$ \n",
    "where $G$ is the number of $\\text{CNOT}$ gates used (note how the single-qubit gates are \"free\", which takes into account their relatively small implementation cost), $D$ is the two-qubit circuit depth (defined as the maximum length of the shortest path from any starting qubit to any ending qubit in the circuit going left, up, or down along the lines in the circuit diagram and counting the number of two-qubit gates), and $S$ is the number of scratch qubits used.  The timeout for verification is set to $5$ minutes.  All implementations that time out or compute any of the popcount outputs incorrectly are assigned the score of ${+}\\infty$; the implementation with the smallest value of $\\text{Cost}$ wins."
   ]
  },
  {
   "cell_type": "markdown",
   "metadata": {},
   "source": [
    "![Footer](../resources/footer.png)"
   ]
  }
 ],
 "metadata": {
  "kernelspec": {
   "display_name": "Python 3 (ipykernel)",
   "language": "python",
   "name": "python3"
  },
  "language_info": {
   "codemirror_mode": {
    "name": "ipython",
    "version": 3
   },
   "file_extension": ".py",
   "mimetype": "text/x-python",
   "name": "python",
   "nbconvert_exporter": "python",
   "pygments_lexer": "ipython3",
   "version": "3.10.3"
  },
  "vscode": {
   "interpreter": {
    "hash": "3e38588175e23bf11a3ddffecbd19d8d2954930019953adb24ac7fa4d791be56"
   }
  }
 },
 "nbformat": 4,
 "nbformat_minor": 4
}
