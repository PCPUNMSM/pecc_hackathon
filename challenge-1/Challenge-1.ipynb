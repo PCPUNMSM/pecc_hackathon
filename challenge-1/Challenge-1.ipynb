{
 "cells": [
  {
   "cell_type": "markdown",
   "id": "412995b0-f7c4-4268-855c-6ec3d7cdf580",
   "metadata": {},
   "source": [
    "![Header](../resources/header.png)"
   ]
  },
  {
   "cell_type": "markdown",
   "id": "1facf008-63b3-4303-be17-716be219c4c6",
   "metadata": {},
   "source": [
    "# Challenge 1!"
   ]
  },
  {
   "cell_type": "markdown",
   "id": "2810ef96-b4bc-4b10-9d27-97f32c0ee7db",
   "metadata": {},
   "source": [
    "Create a working interactive *program* (it can be a website, game, app, etc.) in which a human user is facing off against a quantum computer. This is broad on purpose – the program can be built in many different ways. Your program should implement strategies that seriously challenge the human player. The implementation must utilize more than just probabilities related to measuring quantum states. You must use Qiskit to program the computer’s gameplay strategy, and as much as possible, the strategy should be implemented with quantum circuits and quantum gates on real quantum hardware or the simulator."
   ]
  },
  {
   "cell_type": "markdown",
   "id": "3339fd65-0df9-459b-9e4e-42c3ac1b203a",
   "metadata": {},
   "source": [
    "Present a presentation of your project (more details on next page). Furthermore, \n",
    "augment your program to include as many of the following as possible:\n",
    "\n",
    "- Add a compelling UI implemented with available, or custom, widgets\n",
    "- Display code in real time alongside the UI \n",
    "- Include a gameplay progression loop, or a competitive aspect to be shared on  social media \n",
    "- Make the game playable in an IBM Quantum Lab notebook\n",
    "- Create educational elements of your game for non-quantum players to learn from\n",
    "- Different difficulty levels, with an explanation of what happens behind the scenes to change the difficulty"
   ]
  },
  {
   "cell_type": "markdown",
   "id": "84bdf886-bfa6-49d6-bf04-8dafd73af096",
   "metadata": {},
   "source": [
    "## Extra info"
   ]
  },
  {
   "cell_type": "markdown",
   "id": "1e70225f-4b39-411f-870e-361beff10cd4",
   "metadata": {},
   "source": [
    "**Presentation**: You must include either a YouTube video (no longer than 5 minutes) or a \n",
    "slide deck (no more than 12 slides) which shows off your project, mentions your team \n",
    "members, and goes into detail of how you built the project, challenges faced, and \n",
    "possible next steps."
   ]
  },
  {
   "cell_type": "markdown",
   "id": "1d6be637-44fa-410e-b008-ee3494c5321c",
   "metadata": {},
   "source": [
    "One of the first games implemented on a computer in which a human played against the \n",
    "computer is Nim, so it might be an interesting and fitting game to implement on a \n",
    "quantum computer. This Wikipedia article describes the game, strategies, and \n",
    "variants. https://en.wikipedia.org/wiki/Nim"
   ]
  },
  {
   "cell_type": "markdown",
   "id": "de19c7eb-9635-46a9-8d12-412d1831261f",
   "metadata": {},
   "source": [
    "Any game or experience is allowed, but preference will be shown to projects which:\n",
    "\n",
    "- Emphasize quality of features over quantity\n",
    "- Are fully original\n",
    "- Benefit the quantum community at large \n",
    "- Present the concepts in a new and unique manner\n",
    "- Show clear love for the source material "
   ]
  },
  {
   "cell_type": "markdown",
   "id": "78102781-2b79-48c6-b7e3-4fdbe7358e78",
   "metadata": {},
   "source": [
    "![Footer](../resources/footer.png)"
   ]
  },
  {
   "cell_type": "code",
   "execution_count": null,
   "id": "f47f4054-8bb7-4a2e-a919-f78b62ee0b60",
   "metadata": {},
   "outputs": [],
   "source": []
  }
 ],
 "metadata": {
  "kernelspec": {
   "display_name": "Python 3 (ipykernel)",
   "language": "python",
   "name": "python3"
  },
  "language_info": {
   "codemirror_mode": {
    "name": "ipython",
    "version": 3
   },
   "file_extension": ".py",
   "mimetype": "text/x-python",
   "name": "python",
   "nbconvert_exporter": "python",
   "pygments_lexer": "ipython3",
   "version": "3.10.3"
  }
 },
 "nbformat": 4,
 "nbformat_minor": 5
}
